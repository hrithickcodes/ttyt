{
 "cells": [
  {
   "cell_type": "code",
   "execution_count": 1,
   "id": "0c1d8db7-2bb0-4f41-9228-30867f85bbb5",
   "metadata": {},
   "outputs": [],
   "source": [
    "import os\n",
    "import numpy as np\n",
    "import pandas as pd\n",
    "from tqdm.notebook import tqdm\n",
    "\n",
    "import pytube\n",
    "from pytube import YouTube\n",
    "from youtube_transcript_api import YouTubeTranscriptApi "
   ]
  },
  {
   "cell_type": "markdown",
   "id": "c1cd5e46",
   "metadata": {},
   "source": [
    "### Download Video using PyTube"
   ]
  },
  {
   "cell_type": "code",
   "execution_count": 2,
   "id": "edbc4b7c",
   "metadata": {},
   "outputs": [],
   "source": [
    "VIDEO_URL = 'https://youtu.be/2V7yPrxJ8Ck?si=h2nmLsscinypIesK'"
   ]
  },
  {
   "cell_type": "code",
   "execution_count": 3,
   "id": "0d1f5980",
   "metadata": {},
   "outputs": [],
   "source": [
    "def downloadYTvideo(url, save_dir=\"../data\"):\n",
    "    yt = YouTube(url)\n",
    "    video_title = yt.title\n",
    "    video_id = pytube.extract.video_id(VIDEO_URL)\n",
    "    # Issue: https://github.com/pytube/pytube/issues/1626\n",
    "    yt.streams.first()\n",
    "\n",
    "    video_description = yt.description\n",
    "    video = yt.streams.filter(progressive=True).get_highest_resolution()\n",
    "    try:\n",
    "        if not os.path.exists(save_dir):\n",
    "            os.makedirs(save_dir)\n",
    "        \n",
    "        print(f\"Downloading video titled: {video_title}...\")\n",
    "        video.download(save_dir)\n",
    "        print(\"Videp Downloaded.\")\n",
    "\n",
    "        print('Downloading transcript')\n",
    "        transcript_info = YouTubeTranscriptApi.get_transcript(video_id, languages=['en'])\n",
    "        df = pd.DataFrame.from_dict(transcript_info) \n",
    "        df.to_csv(os.path.join(save_dir, 'transcript.csv'), index = False)\n",
    "        print('Transcript saved.')\n",
    "        \n",
    "    except:\n",
    "        print(\"Failed to download video\")"
   ]
  },
  {
   "cell_type": "code",
   "execution_count": 4,
   "id": "0e772cb4",
   "metadata": {},
   "outputs": [
    {
     "name": "stdout",
     "output_type": "stream",
     "text": [
      "Downloading video titled: The LeetCode Fallacy...\n",
      "Videp Downloaded.\n",
      "Downloading transcript\n",
      "Transcript saved.\n"
     ]
    }
   ],
   "source": [
    "downloadYTvideo(VIDEO_URL)"
   ]
  },
  {
   "cell_type": "markdown",
   "id": "b11bebff",
   "metadata": {},
   "source": [
    "### Load Dataset"
   ]
  },
  {
   "cell_type": "code",
   "execution_count": 6,
   "id": "87fd3137",
   "metadata": {},
   "outputs": [],
   "source": [
    "df = pd.read_csv('../data/transcript.csv')"
   ]
  },
  {
   "cell_type": "code",
   "execution_count": 7,
   "id": "dafff437",
   "metadata": {},
   "outputs": [
    {
     "data": {
      "text/html": [
       "<div>\n",
       "<style scoped>\n",
       "    .dataframe tbody tr th:only-of-type {\n",
       "        vertical-align: middle;\n",
       "    }\n",
       "\n",
       "    .dataframe tbody tr th {\n",
       "        vertical-align: top;\n",
       "    }\n",
       "\n",
       "    .dataframe thead th {\n",
       "        text-align: right;\n",
       "    }\n",
       "</style>\n",
       "<table border=\"1\" class=\"dataframe\">\n",
       "  <thead>\n",
       "    <tr style=\"text-align: right;\">\n",
       "      <th></th>\n",
       "      <th>text</th>\n",
       "      <th>start</th>\n",
       "      <th>duration</th>\n",
       "    </tr>\n",
       "  </thead>\n",
       "  <tbody>\n",
       "    <tr>\n",
       "      <th>0</th>\n",
       "      <td>just improve your problem solving skills</td>\n",
       "      <td>1.599</td>\n",
       "      <td>3.521</td>\n",
       "    </tr>\n",
       "    <tr>\n",
       "      <th>1</th>\n",
       "      <td>and you'll be able to pass all your</td>\n",
       "      <td>3.719</td>\n",
       "      <td>3.401</td>\n",
       "    </tr>\n",
       "    <tr>\n",
       "      <th>2</th>\n",
       "      <td>coding interviews just solve some</td>\n",
       "      <td>5.120</td>\n",
       "      <td>3.920</td>\n",
       "    </tr>\n",
       "    <tr>\n",
       "      <th>3</th>\n",
       "      <td>linkless questions over here and some</td>\n",
       "      <td>7.120</td>\n",
       "      <td>3.639</td>\n",
       "    </tr>\n",
       "    <tr>\n",
       "      <th>4</th>\n",
       "      <td>tree questions over there and then</td>\n",
       "      <td>9.040</td>\n",
       "      <td>3.679</td>\n",
       "    </tr>\n",
       "  </tbody>\n",
       "</table>\n",
       "</div>"
      ],
      "text/plain": [
       "                                       text  start  duration\n",
       "0  just improve your problem solving skills  1.599     3.521\n",
       "1       and you'll be able to pass all your  3.719     3.401\n",
       "2         coding interviews just solve some  5.120     3.920\n",
       "3     linkless questions over here and some  7.120     3.639\n",
       "4        tree questions over there and then  9.040     3.679"
      ]
     },
     "execution_count": 7,
     "metadata": {},
     "output_type": "execute_result"
    }
   ],
   "source": [
    "df.head(5)"
   ]
  },
  {
   "cell_type": "code",
   "execution_count": 12,
   "id": "eb6409f4",
   "metadata": {},
   "outputs": [],
   "source": [
    "video_text_corpus = df.text.str.cat(sep = ' ')"
   ]
  },
  {
   "cell_type": "code",
   "execution_count": 13,
   "id": "44903161",
   "metadata": {},
   "outputs": [
    {
     "name": "stdout",
     "output_type": "stream",
     "text": [
      "Length of video:  5032\n"
     ]
    }
   ],
   "source": [
    "print('Length of video: ', len(video_text_corpus))"
   ]
  },
  {
   "cell_type": "markdown",
   "id": "0a4095b1",
   "metadata": {},
   "source": [
    "### Phi3 For HyDe"
   ]
  },
  {
   "cell_type": "code",
   "execution_count": null,
   "id": "ee85cc7e",
   "metadata": {},
   "outputs": [],
   "source": []
  },
  {
   "cell_type": "code",
   "execution_count": null,
   "id": "b31269ce",
   "metadata": {},
   "outputs": [],
   "source": []
  },
  {
   "cell_type": "code",
   "execution_count": null,
   "id": "3b7caec8",
   "metadata": {},
   "outputs": [],
   "source": []
  }
 ],
 "metadata": {
  "kernelspec": {
   "display_name": ".venv",
   "language": "python",
   "name": "python3"
  },
  "language_info": {
   "codemirror_mode": {
    "name": "ipython",
    "version": 3
   },
   "file_extension": ".py",
   "mimetype": "text/x-python",
   "name": "python",
   "nbconvert_exporter": "python",
   "pygments_lexer": "ipython3",
   "version": "3.12.3"
  }
 },
 "nbformat": 4,
 "nbformat_minor": 5
}
