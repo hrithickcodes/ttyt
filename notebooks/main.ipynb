{
 "cells": [
  {
   "cell_type": "code",
   "execution_count": 54,
   "id": "0c1d8db7-2bb0-4f41-9228-30867f85bbb5",
   "metadata": {},
   "outputs": [],
   "source": [
    "import os\n",
    "import numpy as np\n",
    "import pandas as pd\n",
    "from tqdm.notebook import tqdm\n",
    "\n",
    "import pytube\n",
    "from pytube import YouTube\n",
    "from langchain.docstore.document import Document\n",
    "from youtube_transcript_api import YouTubeTranscriptApi"
   ]
  },
  {
   "cell_type": "markdown",
   "id": "c1cd5e46",
   "metadata": {},
   "source": [
    "### Download Video using PyTube"
   ]
  },
  {
   "cell_type": "code",
   "execution_count": 2,
   "id": "edbc4b7c",
   "metadata": {},
   "outputs": [],
   "source": [
    "VIDEO_URL = 'https://youtu.be/INHW_-HGCIs?si=T_4wZdVsryr5BLZo'"
   ]
  },
  {
   "cell_type": "code",
   "execution_count": 3,
   "id": "0d1f5980",
   "metadata": {},
   "outputs": [],
   "source": [
    "def downloadYTvideo(url, save_dir=\"../data\"):\n",
    "    yt = YouTube(url)\n",
    "    video_title = yt.title\n",
    "    video_id = pytube.extract.video_id(VIDEO_URL)\n",
    "    # Issue: https://github.com/pytube/pytube/issues/1626\n",
    "    yt.streams.first()\n",
    "\n",
    "    video_description = yt.description\n",
    "    video = yt.streams.filter(progressive=True).get_highest_resolution()\n",
    "    try:\n",
    "        if not os.path.exists(save_dir):\n",
    "            os.makedirs(save_dir)\n",
    "        \n",
    "        print(f\"Downloading video titled: {video_title}...\")\n",
    "        # video.download(save_dir)\n",
    "        print(\"Videp Downloaded.\")\n",
    "\n",
    "        print('Downloading transcript')\n",
    "        transcript_info = YouTubeTranscriptApi.get_transcript(video_id, languages=['en'])\n",
    "        df = pd.DataFrame.from_dict(transcript_info) \n",
    "        df.to_csv(os.path.join(save_dir, 'transcript.csv'), index = False)\n",
    "        print('Transcript saved.')\n",
    "        \n",
    "    except:\n",
    "        print(\"Failed to download video\")"
   ]
  },
  {
   "cell_type": "code",
   "execution_count": null,
   "id": "0e772cb4",
   "metadata": {},
   "outputs": [],
   "source": [
    "downloadYTvideo(VIDEO_URL)"
   ]
  },
  {
   "cell_type": "markdown",
   "id": "b11bebff",
   "metadata": {},
   "source": [
    "### Load Dataset"
   ]
  },
  {
   "cell_type": "code",
   "execution_count": 4,
   "id": "87fd3137",
   "metadata": {},
   "outputs": [],
   "source": [
    "df = pd.read_csv('../data/transcript.csv')"
   ]
  },
  {
   "cell_type": "code",
   "execution_count": 5,
   "id": "dafff437",
   "metadata": {},
   "outputs": [
    {
     "data": {
      "text/html": [
       "<div>\n",
       "<style scoped>\n",
       "    .dataframe tbody tr th:only-of-type {\n",
       "        vertical-align: middle;\n",
       "    }\n",
       "\n",
       "    .dataframe tbody tr th {\n",
       "        vertical-align: top;\n",
       "    }\n",
       "\n",
       "    .dataframe thead th {\n",
       "        text-align: right;\n",
       "    }\n",
       "</style>\n",
       "<table border=\"1\" class=\"dataframe\">\n",
       "  <thead>\n",
       "    <tr style=\"text-align: right;\">\n",
       "      <th></th>\n",
       "      <th>text</th>\n",
       "      <th>start</th>\n",
       "      <th>duration</th>\n",
       "    </tr>\n",
       "  </thead>\n",
       "  <tbody>\n",
       "    <tr>\n",
       "      <th>0</th>\n",
       "      <td>if you want to buy my course on how I</td>\n",
       "      <td>0.599</td>\n",
       "      <td>3.841</td>\n",
       "    </tr>\n",
       "    <tr>\n",
       "      <th>1</th>\n",
       "      <td>grew this YouTube following that's the</td>\n",
       "      <td>2.639</td>\n",
       "      <td>3.601</td>\n",
       "    </tr>\n",
       "    <tr>\n",
       "      <th>2</th>\n",
       "      <td>top Link in the description in this</td>\n",
       "      <td>4.440</td>\n",
       "      <td>3.900</td>\n",
       "    </tr>\n",
       "    <tr>\n",
       "      <th>3</th>\n",
       "      <td>video I'm going to teach you from my</td>\n",
       "      <td>6.240</td>\n",
       "      <td>4.560</td>\n",
       "    </tr>\n",
       "    <tr>\n",
       "      <th>4</th>\n",
       "      <td>current understanding how to love a</td>\n",
       "      <td>8.340</td>\n",
       "      <td>5.520</td>\n",
       "    </tr>\n",
       "  </tbody>\n",
       "</table>\n",
       "</div>"
      ],
      "text/plain": [
       "                                     text  start  duration\n",
       "0   if you want to buy my course on how I  0.599     3.841\n",
       "1  grew this YouTube following that's the  2.639     3.601\n",
       "2     top Link in the description in this  4.440     3.900\n",
       "3    video I'm going to teach you from my  6.240     4.560\n",
       "4     current understanding how to love a  8.340     5.520"
      ]
     },
     "execution_count": 5,
     "metadata": {},
     "output_type": "execute_result"
    }
   ],
   "source": [
    "df.head(5)"
   ]
  },
  {
   "cell_type": "code",
   "execution_count": 6,
   "id": "eb6409f4",
   "metadata": {},
   "outputs": [],
   "source": [
    "corpus = df.text.str.cat(sep = ' ')"
   ]
  },
  {
   "cell_type": "code",
   "execution_count": 7,
   "id": "586d5357",
   "metadata": {},
   "outputs": [
    {
     "name": "stdout",
     "output_type": "stream",
     "text": [
      "if you want to buy my course on how I grew this YouTube following that's the top Link in the description in this video I'm going to teach you from my current understanding how to love a woman and this gets so much deeper than just getting into a relationship and saying I love you to her it gets infinitely more deeper than the average relationship and if I can tell you a story of the last time that I took psychedelic mushrooms I felt 100 masculine I achieved 100 polarity at least that's what I believe with my woman and it was a beautiful magical experience we went up a mountain to a private part of like this place in Thailand and there we sat down we talked these like this mushroom like this dried thing which is like a psychedelic it's it's meant to enhance your consciousness and after around 10 15 minutes it starts the hit and if you've never experienced this before it's like the saturation of the world around you like the colors start to pop and it and brightness and feelings just went all through me and I started to feel anxious I started to feel a little bit scared a little bit sick the plan was that we you know we set out this picnic on this mountain that you know we'd probably just stay there but it just didn't feel right for some reason and so I picked everything up and she's looking at me a little bit weird Okay this was the plan to stay here but I'm like no no we need to go this way we pack everything and we start to Walk and Walk and Walk till I remember to breathe I remember to consciously breathe and I took one big deep breath and I couldn't help but smile because I felt the strength that I had imagine this my woman is stood next to me and I felt strong and this is when the visual started hitting in and if you've ever taken psychedelics you know what it's like and if you've not it's like you start to see like visuals it's almost like things kind of have like a smoky glisten to them like the thing that you're looking at almost looks like it melts into the next thing it's a beautiful experience and this starts to happen and it's almost like I can hear like tribal music and I feel strong I look to my arms to my body like I physically felt really strong and she starts to melt and I don't say that metaphorically this level of strength that I just felt out of nowhere she started to physically melt not in some weird way but like I saw her physically go like this like like this closer and closer into my arm like she looks so happy so submissive so feminine so beautiful like this and what happened next is one of the best experiences of my entire life we're on the top of this mountain slowly just one step at a time going down it was like I had perfect posture it was like I was divinely masculine like Shiva like masculinity I'm walking down with like a straight back chest out feeling strong and she's like you know clutching onto my arm like look literally looking at me like this like like this obviously she took them as well so you know she's like probably next to me and everything and it I'm walking her through a trip of our ancestors and I'm looking at her and saying like this like these strong things our ancestors used to Traverse these mountains take your slippers off baby let's feel the floor between our feet and you know I'm saying these things which obviously the impact of which it doesn't feel the same right now but imagine I'm just saying like the like strong romantic things to her and I swear this is the truth out of nowhere we look down like in our side of this mountain and there's a solid seven a nine quite big healthy looking stray dogs and they look kind of angry they look kind of like hungry stray dogs in Thailand are usually no problem usually you know worst case scenario they've got like maybe some some kind of disease but usually nothing but like sometimes they can be a little bit like Snappy like you know sometimes they can challenge you a little bit and in fact one of my friends just a few days before this moment that like literally had a scar on his leg that he had been bitten by a stray dog I'm looking at this group and she starts you know we hear them barking down they're 100 meters away from us like you know with kind of like a lower altitude and she starts panicking there's a lot of them there's genuinely like I'm telling you the truth genuinely there's like seven eight stray dogs there inside of me is a little bit of a fear because I'm thinking okay we're actually far away from like Civilization you know take us five minutes or so to run to the nearest person or something this actually could get kind of nasty and instantly the fear goes away because I knew what I would do if they did come up to us and I did say it to her I said if the worst has happened just stay still stay behind me and don't be scared of what I'm about to do because I was expecting if these stray dogs like a pack of stray dogs run towards maybe I'm over exaggerating but if they did I was gonna go absolutely animalistic mode I was genuinely thinking that I know this is like weird to say but I was genuinely imagining okay if they come towards me I'm gonna go like fully Primal and start like like you know if I [ __ ] making noises throwing rocks at them because I'm not gonna risk them coming towards me and just you know wanting to like slightly pick up my legs or something just to see if we're like weak or anything I'm genuinely think okay I'm gonna like bark like I've never parked before towards these dogs if they do come towards me and she's feeling terrified and so we're on kind of alert for these dogs that are playing you know it's playing or whatever they're doing down there and it's like you know we're taking one step the next step one step then the next step going down the mountain and within a few seconds she's pretty much forgotten about them they've like ran off somewhere else but it's in my mind it is in my mind okay this is it potentially is a dangerous genuinely dangerous environment it could go wrong anyone who kind of knows about like stray dogs in Thailand probably knows yeah it would have been fine anyway but it could potentially go wrong it added to the feeling of like you know this masculine femininity polarity and taking mushrooms and nature and wildness and we start walking down and there's something that I told my girl which she found very interesting I told her that my visuals every single time I've taken psychedelics is always the same it you know you see sometimes you see like patterns in everything that you look at every single thing that I look at the pattern that I see is always the same it is always women submitting to me it is always women literally provocatively like dancing towards me getting closer and closer and closer towards me they want me to take them and I said this to her and like you know this proper Shiva like straight back way and I was describing I've told her this before so I described it up everywhere I see is a woman submitting to me and she gets like back into that melty mood looking at me again like in awe looking at me I'm telling her like here amongst these rocks that rock right there that formation as a girl she's just pushing herself into me they want me they want my seed I'm saying these things and I I know it can seem kind of uncomfortable you know in like a dry situation I'm saying it to the camera with my book still but but just looking at her the way that she's melting on my arms like she's looking at like imagine she's on my head like my chest there like she's literally like like the biggest smile on her face she looks so happy so safe and every few steps that we take I'm like saying something else about our ancestors about masculinity about our love together I'm looking at it deep into her eyes like grabbing her cheeks like this and not just saying like oh yeah I love you I love you baby so much deeper than that the kind of things if I said them now it wouldn't even do it justice but just to give you an example like I reminded her that the last time I was here before her that I had a gift for her and I pulled out a seashell from my pocket and I looked into her eyes and said the ocean gave me this I held my hand inside of the ocean and the ocean gifted me this and now I give this to you as a token of our love keep it safe forever of course it it doesn't sound as good maybe it sounds a little bit cringe you know right now but imagine for a woman the man that she's in love with is talking like this and how much love that she was feeling at this moment and how like just melting she was this was like this is genuinely like a real experience that just happened a couple of weeks ago an absolutely amazing connecting experience but just three years ago ah 3 A.M 4 A.M I was on the fourth fap of the day watching hyper stimulating porn the kind of porn that isn't even like a normal video it's like they've merged multiple videos into one so it's like like you know the like hyper stimulant there's like extra music and everything I'm smoking weed at the same time it's 4am and I'm eating junk food I've just ordered more like cheesecake and everything and I'm literally like fapping multiple times in a row whilst at that time my girlfriend was sleeping in the Next Room and when she was gonna wake up this is different girls you know this what I'm talking about now happened four years ago when she was gonna wake up the way that she'd look at me with a sense of like distaste even though we were living together and we were in love we didn't love each other we could hated each other we presented each other to the points like you know all this this tension between us this lack of attraction between us me and this girl that I was dating a few years ago eventually I remember that you know I went away I went back to my my family's home for a few days and just looking at my phone neurotically on her Snapchat and just seeing something very interesting one night one Saturday night I still remember this one Saturday night I was supposed to go back there to see her on Sunday and on Saturday night I noticed that she turned her Snapchat location off if you didn't know that Snapchat has this feature where it's kind of a weird feature where you can like actively show everyone your live location it's like a it's you know the kids really like not kids but you know some people are kind of messed up in the head and they think that's like something they should turn on they should actively show everyone their exact location but a lot of people have that on and my girl did at the time like you know this was four years ago this different girl that we're talking about like my ex-girlfriend she always had it on and then I just had this gut feeling this neurotic overthinking this anxiousness that something bad was happening and on this one fateful day I noticed that she had it off on like this night time and imagine how that made me feel compare these two two different scenarios where four years ago or three years ago I was this anxious overthinker seeing these like you know last online 12 58 P.M a.m whatever to this experience that I just had a few weeks ago and I'm certainly no master of masculinity or no no master of like sexual energy or anything but I think I've made a really good amount of progress and I want to try and help you make this this transformation way faster than it took me this video is going to be about how to grow the love that you have with your woman this video is not going to be about how to attract a woman in the first place I've made many videos on that if right now you're single and you don't have a girl interested in you then there's so many videos I've made on like you know how to text a girl how to attract how to be the kind of man that's actually attractive to girls that gets like you know more messages on Instagram and all the attraction phase things and so you can skip this video up until you actually have the girl but what I would recommend is that there is going to be a point for you that you're gonna have the girl eventually right there's if you stay on self-improvement if you keep improving yourself there's got to be a point when you get the girl at that point is actually when most guys fail most guys only focus on the attraction process thinking that once they get into the relationship they'll figure things out but what they don't realize is that getting into the relationship is actually the easier part being in the relationship being in love is incredibly harder than just attracting her in the first place and so this video is either for the guys who already have a girlfriend or a wife or if you already preemptively want to like just kind of understand some things from from something that will happen to you just so you have this knowledge in your mind which I think would be a pretty smart way to go about things let's talk about what a feminine woman is like when she's in love and I'll give you a caveat like a disclaimer here everything that I talk about on this video in every video in everything that I talk about I'm always talking from the perspective of a masculine man who is interested in feminine women there's a difference like it's a lot of things I talk about are going to seem quite weird to a lot of people maybe to yourself because this is based on loving a feminine woman and this such a big difference between loving a feminine woman and loving a modern day masculine independent woman if that's what you're interested in then I I don't want to be associated with that at all it's feminine women who are beautiful to me and I am a masculine man I am a goal striving ambitious purposeful man and so if you can relate to that or if you find that something that you want to emulate and you want to be more masculine you want to be more of a man you want to start get becoming more disciplined and everything then hopefully you can learn quite a lot from me feminine woman in love I have my notes by the way a feminine woman in love is highly sensitive to your love and the focus that you have on her she is incredibly sensitive to the smallest micro things that happen to her to you that you express to her you don't even realize okay this isn't even just if you say something big like I love you or if you say something aggressive to her or anything like that this is down to the smallest micro expression on your face the smallest thought that you get in here that are she's taking too long to get ready she feels a sense of Abandonment she is highly sensitive extremely receptive to the smallest signs that you might not even know that you're emitting yourself because her life depends on it because for a feminine woman through Evolution her life is totally dependent on the masculine man that's taking care of her and so she is incredibly sensitive most guys don't understand this she is so much more sensitive to the micro signs that you're giving out than you realize and this is why her mood can swing this is why sometimes she can feel kind of happy and then within a few minutes just feel kind of like down and depressed and quite distant from you and you're wondering what what happened what actually happened was that literally three micro muscles in your face moved in a certain way that her Primal brain registered it as a slight level of detachment and again her Primal brain hurts like you know the amygdala the anxiety part of her brain flared up and started to like change her heart rate and cortisol and and put her into fight or flight instead of rest and digest because that would usually symbolize an extremely like dangerous environment if we were 50 000 years ago and the human brain hasn't actually evolved that much in the last tens of thousands of years and so she is still the same when she's in love a feminine woman is in Love She is totally reliant on you but she could be independent if she needs to if she senses weakness in you and this is maybe something that you've experienced before she's usually really really into who she's usually looking for you for your guidance but you've seen times when she seems to make her own decisions and she's way more independent and usually those are around the times that you've been maybe a little bit lazier she picks up on it now again 50 000 years ago she wouldn't have had the luxury of being independent she would have needed you to like be that guy in the modern day we've safeguarded a lot of things and so what this means is that it's a lot harder to be a masculine man dating a feminine woman because she has like a safety level that she could be at if you guys did split up if she did think that you were just getting weaker and weaker and weaker the safety level that the government gives her that she's got with her family and that you know she she's got a safe place to live and a way to get food and everything and shelter well then she can go to that level once she feels like your weakness is too unbearable this is what happens to a lot of guys who eventually find themselves just watching porn and playing video games and taking drugs when they're in a relationship she sees this and she can't help but just think actually I don't even need him her happiness anxiety and stress are very much so correlated with yours now what this means is that for this feminine woman who's in love with you pretty much all of her emotions are based on what's happening with you if things are good if you're especially if you're happy she's happy my girl makes this joke all the time when I you know it's time to order food or to eat I'll sometimes kind of say to myself am I hungry are you hungry and she'll say in like with like a laugh like if you're hungry I'm hungry and she's I know this can seem weird to other people but she's genuinely not joking if I suddenly say I'm hungry she would be hungry if I'm like oh I'm so tired she'd be like yeah I'm tired too let's just lie down if I'm like oh yeah you know I can't wait to move my body I can't wait to exercise she's like yeah me too me too this isn't fakeness by the way a lot of people will look down to this and say like oh no this is a bad thing this is cringe but I don't you know I want a girl who's her own person but this is her being her own person because a feminine woman who's in love is 100 devoted to you so much that her emotions and feelings are dictated or at least heavily correlated by how you feel and so if you feel happy she will feel happy if you feel certain she will largely feel certain to if you feel lazy then so will she if you feel stressed then so will she if you feel nervous anxious anything so will she because again remember those black Primal caveman micro Expressions when you show the smallest level of stress of anxiety you know somehow it'll come across your face right she will see that and pick up on it if he's anxious anxious anxious then I probably should be too right I think I said this to my girl once like she said oh yeah you're not scared of anything and you know I was laughing around and I said we're like if you see me scared you should be very scared does that make sense like if something scares me as the guy and she's saying like oh yeah I've never even seen you scared before I've never seen you anxious before if you see me scared then that means okay shit's actually about to go down and when she is totally in love with you she is perfectly polarized always consensing to your love and to your physical acts of Love to You caressing her undressing her and even going further she's pretty much she is always consenting to you guys have experienced this before maybe you have you can have a woman who's totally in love with you and it feels like you can have sex with a 100 of the time and unfortunately a lot of guys have experienced that with a woman and then seen it change where suddenly she's too tired to have sex with them now suddenly she's too busy to meet them on the day or the dates that they usually do when she's in love with you totally in love with you she's always consenting to you and finally when she is totally in love with you she's always submissive and following your direction now those are kind of Common Sense things but you know just something that a lot of people don't know about a feminine woman there may be some people watching this thinking no no no women aren't like that I don't know like or maybe there's a woman watching the cylinder I'm in love but I'm not like that we're talking about feminine women women who are filled with femininity they are very quite rare these days and if you are wondering very quickly I said I'm not going to teach you the attraction stage things in this video but the way to find those feminine women is to be that masculine man yourself and the way to be the masculine man yourself very interestingly is for you to abandon your feminine side people these days try to trick young men to tell them to embrace their feminine side to be weak to cry to show their emotions to show vulnerability all of that is very manipulative and it's like a trap as a Young Man one of the best things you can do is to destroy the feminine side inside of you to still have you know some relics of it to still have the ability to enjoy yourself and laugh and dance and stuff okay nice but to not be have the counter-intuitive side to not be their emotional focused on play instead of work to be to be ambitious to be masculine and disciplined when you change your personality like this you'll find that you'll automatically start to attract women who've got a feminine personality who've got feminine energy because you know the two just attract like opposite sides of a magnet that's how you attract a feminine woman they are somewhat rare these days in the west once you leave the West if you are interested again if you're young and you haven't really seen this before if you get out of the US and the UK and some of those like basic countries and you go out to places like Thailand or maybe to um to be fair Thailand's one of the most places that I've traveled then I've been to some parts of um like Pakistan and everything once you go outside more of these like somewhat traditional places somewhat like like wild places you'll see that the women here are feminine and you automatically start to attract them when you have this masculine directional energy now how is a woman like when she doesn't feel loved what is a feminine woman like when she doesn't feel loved and this is I don't know if I should say this but this is kind of close to my my heart because as I was writing this down I was journaling all of this to try and present this to you in a video I couldn't help but just constantly visualize my my mother in this to just see her alone in the kitchen with like this this neurotic and anxious body language trying to kind of like overhear what my dad's saying on the phone in the other room and you know just kind of overthinking closed body language like this a feminine woman who doesn't feel loved if there's one word that I would use to describe her it would be barren Baron like an like an empty Wasteland like what do you visualize when you when you hear the word Baron what and imagine that inside of a woman I see it as like a dead Forest inside of her stomach a gray heart a feminine woman who doesn't feel loved by the man that she is in love with she's Barren she's neurotically overthinking she feels unsafe and anxious she feels ugly and these thoughts you know we know the power of thinking don't we these thoughts manifest into reality when she feels neglected neglected and Abandoned and ugly and you know she's having these thoughts emotions and thoughts they start to manifest into reality suddenly she's pinching her spots a little bit harder she's constantly looking in the mirror looking for Flaws and of course finding some because everyone's got some and then she starts to focus on them every single time she steps in front of the mirror she sees the same five flaws that she always focuses on and they seem to get worse and worse and worse because she's paying them more attention you know that Dynamic of like if you think of the the yellow car if you think of the car make like the Mercedes or whatever or the motorbike and then you constantly start seeing it more the more you think about it well it's the same with her insecurities usually a loving man would just like rip away those insecurities and fill her up with love but when she doesn't have that she doesn't feel love she starts to question why and and oftentimes women will start to you know pinpoint on on their physical attractiveness their physical Beauty her personality it's very interesting a feminine woman who doesn't feel love her personality turns quite rude and disrespecting you thought maybe it'd be quite like you know silence you know the physical manifestation of of you know like closed off and feeling baroness the opposite that it's the violent hostility it's a rude disrespectful it's challenging it's testing the reason why she's like this her personality is quite hostile to the man that she's in love with is because she's testing him to try and see if he'll still love her often times when a woman who doesn't feel loved acts in this like disrespectful way she's doing it because this in response to this her man will now show her attention sometimes for a lot of women this is the only time they're men that they're in love with will show them attention when she's being disrespectful when she's testing him when she's being rude that's when the guy will blow up and you know argue with her and swear at her and as much as she hates the abuse like at least he's focusing on me at least he's like giving me eye contact there's the book that I really like that I mentioned a lot the way of the superior man it's written by an author called David Dieter and in this book there's a bit where he talks about a feminine woman who doesn't feel loved and there's something he wrote which is very interesting that when she doesn't feel feel filled up with love she fills herself up with things like chocolate drugs gossip TV casual sex from men that she's not in love with tattoos all of these like short-term distractions out think about the things I've just said to you chocolate and we can say you're not junk food in general drugs gossip TV Netflix video games uh YouTube porn casual sex tattoos essentially degeneracy a woman who doesn't feel loved will do this now I want you to imagine right now a teenage girl aged 16. you know from your hometown or from your country right so for me it's like Britain right I imagine a 16 year old British girl who doesn't feel loved by her father who feels ignored by the guy that she's got a crush on how is she gonna behave who doesn't feel love right because if you know she's got Father's Love if she's got her father's love if she's got maybe a crush that's actually receptive then she's going to be healthy and stuff but when a girl doesn't have a Father's Love when she's young and then eventually the romantic love what happens to those girls were like 16 years old who don't have daddy's love exactly this early age they're taking drugs early age they're going out drinking and going to parties with boyfriends that they don't even care about and they're cheating on those boyfriends and you know this this toxic and horrible degenerate environment where she's degrading herself even though other women are telling her that feminism is empowering oh she's destroying herself she's filling herself up with a substitute for real love and it never works the issue with these substitutes is that they're all instant gratification they're all destruction they're all like bad dopamines bad habits and so whilst they do give you like a feel or they give women a feeling of of being filled up in some sense there's always negative consequences the woman who fills herself up with junk food and chocolate tomorrow steps on the scale and then gets depressed at the two kilogram weight gain that she's had consistently every week or so the woman who then does this with casual sex like you know the guy that she really wants isn't really replying or being interested in her maybe that's her father maybe that's um you know the crush that she's got the man that she's in love with well then she does it with casual sex and she gets filled up by some random guy and then think about the consequences of that the consequences of a woman a feminine woman who doesn't feel loved is absolutely life-changing and the reason why this is a very controversial issue and this is something that a lot of people feel too uncomfortable to talk about the reason why is because a woman who does these things is damaged permanently a woman who doesn't feel her father's love when she's growing up it gets damaged permanently when a woman tries to fill herself up from like these habits especially the sex related ones you know from casual sex she she could go through a period of transformation for 10 years she's going to be damaged permanently because of these experiences and I'd have to go into too much detail with this and it'll be too like vulgar and everything but it's such a sad sad reality for so many women especially what seems to be in the west where fathers are being taken out of the home fathers are being demonized you know the father is like this disrespectful disrespected figure these days you know the father in every TV show is a bumbling idiot these days isn't it every TV show you can think of it's like the father is like the idiot the mother is the super mom who who looks after the kids and also looks after the husband because the husband doesn't know anything the father's useless in the modern day in the west of course not all countries are like this that was a side tangent but pretty much when she doesn't feel loved it's horrible for her and also for your relationship or because imagine think about these things that she could be doing when you don't make her feel loved of course this is a very extreme example when she really feels neglected this is what she's kind of pushed towards and this is why the extreme example like you don't want your woman to feel like she's unloved by you because this is where it leads to it leads to her hurting herself it leads to her filling herself up with things that will damage her and and your relationship together you want her to feel loved and so how do we do that well there is a challenge to this the challenge that we've as young men have never really been taught about in terms of relationships you know we've always you know you hear some wisdom maybe from some male family members or from like men online and you hear about how to attract girls okay you know just take her on a date what's a dress like what to do how to talk those things are really nice but no one really I have ever seen online really explains the challenge in loving a woman and the challenge is that it goes way further than the automatic mundane I love yous of the day once you fall in love with a woman guys think that that's all there is yep okay accomplishment no no no this is the start the mundane automatic I love yous that we throw out there do nothing the challenge with loving a woman is that she needs every micro interaction of yours to be filled with love I will say this again she needs every micro interaction of yours to be filled with love every micro interaction notice that I didn't say every minute every hour every day a lot of guys think this right a lot of guys think that they get into the relationship and it's yeah okay sweet we're in love and then they forget everything else no no then there's more clued up guys there's more aware guys who say no no you've got to make your woman feel loved every day okay that's that's okay but it's not good enough if you want to make your woman feel loved every day you'll be slightly better than the average guy because a day is huge you need to make her feel loved in this exact micro second this is where the challenge comes in because sometimes it feels impossible to that to do that sometimes she's next to you whilst you're on Google Maps looking for like the restaurant that you guys are trying to go to was it a left from here or was it forward every interact every micro second you know two if if we were trying to get to the ultimate performance if we were trying to get to your best performance with her every microsecond would be filled with love everyone not just the dates a lot of guys think okay you know you're in the middle of a relationship don't stop dating keep going on dates that sounds awesome but it's not good enough you can't just go on a date with her and think yep okay job done no no you go on the date you sit down with love looking into her eyes and then you bring like you literally grab her chair and pull it closer to you with love looking into her eyes every micro moment even when you're looking through the memory you put your hand on her leg or on her back every micro moment like it needs to be as short term as you can possibly get it and even dinner for the male brain bro even then it's like it's still like too big for us she needs to feel it the specific term right now for a woman those are the two most important words that could ever exist right now when she says I love you she means I love you right now when she says I'm happy she means I love I'm happy right now you need to make her feel loved happy secure safe excited right now and this right now has already passed I said that I said right now like a second ago it's already passed now are you making her feel loved right now okay maybe you are but then you check your phone and you've oh there's that message you've got to reply to and oh okay oh the menu yes okay yes what are we gonna eat here how about right now oh just one second you know just quickly quickly gotta look through the menu just one second just want to look through the bed oh Carnival it needs to be this is what's so difficult about truly making her feel loved it needs to be right now in this small micro moments now I want you to think right now imagine you gave her your full attention imagine you made it your full Focus just like you do with your work just like you do with your workouts and everything you know you've got that ability right you know that you've got that drive to check off the boxes for your task Place imagine if you put that much intention into making her feel loved right now for the duration of your dates together you could do that right awesome but then imagine after the date imagine the next day and the next day and the next day and the next day imagine you live together imagine you're on a holiday together there's going to be moments when you slip up and it's so easy right now there's a lot of guys watching this it's so easy right now to try and blame her or to say no no this is too much this is oh this is too much expectations I'd rather just you know just watch porn anyway like oh no I don't date women who who are this needy anyway I I prefer more independent masculine women as soon as we say like that all the guys take a step back like no no I don't like muscular women I just like women who who aren't as feminine if you are attracted to feminine women submissive women and you want to be a masculine man this is what this is the reality of it and we can look at this really negatively can't we oh it's so mentally demanding let me just look through the menu [ __ ] we can look through it we can look at it like really negatively but this may be the greatest gift that she can give us her constant need for love right now because this means that we have this constant meditation reminder next to us we have this real person who is our reminder to be here in this moment and that is so valuable another part of the challenge that comes with loving a feminine woman is that you need to balance this you know her her need for love with your need for progress on your purpose and your mission so as a masculine man the most important things for you will be like the major goals that you have the major thing in your life the drive that you have whether it's you know to get the degree or to get the job or to level up your business or to get success in this area or to go to the gym and build the physique that you're proud of whatever it is that is like the number one priority in your life that these big goals and a woman comes second or maybe third fourth like the woman actually is down here on the list for you know you're truly masculine when the number one most important thing for you is like your goals your mission your purpose how do we balance her need for love and what we've got to give her with our need for purpose this is when it gets tricky because she needs this reassurance all the time and sometimes sometimes you do need to look through your phone sometimes you do need to look at the menu to make sure you're ordering something that's healthy for both of you and so this is where it gets tricky and I don't have like the perfect answer here I'm just kind of bringing awareness for you that this is the challenge that we need to navigate and we need to learn about I'm not perfect at this at all or bro I'm barely even good at this honestly I find it incredibly that once you really open up your mind I'm not sure if it's clicked for you yet but if you really open up your mind to this challenge of thinking okay she needs to feel loved right now like constantly and this isn't because she's got you know some guys might tell well yeah but this is because you know she's she's like too anxious or something right I want like a girl who does who is an anxious but this is just how feminine women are this is just through Evolution what a woman is supposed to be because she's supposed to feel like she needs reassurance constantly because her brain is the same she has the same brain like you maybe there's someone who can correct me on this in the comments I'm pretty sure we have the same brain from our caveman ancestors she has the same brain as the cave women in her DNA those cave women needed to feel anxious they needed to feel constant reassurance and if they saw the smallest micro expression in their cavemen they would have felt weird they would have felt agitated they would have felt unloved because this was literally based on my Primal survival and so when we do in this modern day have women who say like oh this is you know these anxious women I'm not like this I'm a boss baby and everything well that's because you're not masculine I'll be I've got guys who said I don't know but I don't want to deal with this I just want a more independent woman that's because this guy who's saying this he's quite feminine he's in touch with his emotions he he likes to like cry in front of his girl he doesn't even go to the gym and he prefers masculine women but again if you are a masculine man and you are and you want a feminine woman in your life and you want a love with this feminine woman this is just part of it and it's okay like I don't think we should view this negatively because this is just who she is she prioritizes love above everything else and interestingly we prioritize purpose and Mission above everything else and so this is where there's a bit of like deviation where our priorities are not the same and so it is with responsibility and discipline that we've got to try and make her feel loved as much as possible and I'll just very like go into a very quickly rant here this is not simping there's a lot of guys out there in this modern world maybe you thought I'd be one of them who think that like being like this is like being a simp the word simp is thrown around like quite derogracy these days and maybe for good reason maybe to the guy who's donating to like only fans girls or to like you know like those women on Twitch who are like in hot tubs and stuff and there's a guy who who's like oh my God you know she said my name wow okay that's something fine being a gentleman and being a lover and being masculine to your woman is not simping do not get this confused for any guy out there who who's listening to this thinking wait you want to make your woman feel loved and appreciated that simping I would invite that man to go say this to like a 1900s gentleman the kind of guy who wore like a a tuxedo like a suit for his first date with your great-grandmother the kind of guy who when you had handshaking would accidentally crush your hand because this is how hard men used to handshake those they're the kind of guy with a four digit testosterone for 1076 nanograms per deciliter testosterone and these modern day it was skinny neck skinny risk guys call this simping this isn't simping this is what this is how our great grandfather's navigated relationships and I don't think a single one of us Modern Men could call one of those those men Sim could we we're just emulating what our great grandfathers did perhaps in hopefully a slightly better more educated way because now we understand a lot more about psychology and relationships this is not simping this is love and there's a big difference in it and it's okay like you know the friend of mine sneako he's another Creator he I think he went on this rant once as well where people were calling him as like it was on like a live chat on live stream and stuff so people do turn a bit stupid when it comes to like live streaming and everything but people were commenting like spamming like when he kissed this girl or he said he loved this girl or something and then he went on around saying like how is this isn't simply like we're in a relationship we're in love that's not simply it's not it's all like being in love with this woman and treating her with love and respect and appreciation is not simping it's only simping if she doesn't even like you if she doesn't even like you if she disrespects you if she doesn't even know you and then you're like acting in this proper love Ewa and you're paying for her or something okay that's sipping but like with a girl who's literally yours who you literally have like you have you've got her soul treating her nicely and paying for the dates and and being really conscious of how much you've got to show love to her is not simply at all this is the right thing to do this is for her benefit and also for yours so don't let any of these like modern day Sigma males with like smelly breath and like weird facial hair tell you that this is simple because I don't believe it is so then we get to the point how do we actually make her feel loved we understand that we've got to try and make her feel loved as much as possible but how do we actually go about and do that because a lot of guys don't actually know this and I didn't for a long time a lot of guys say this and quite like usually older guys and a little bit more old school guys say this oh she knows that I love her so I don't have to say it no she might rationally know that you love her but she's an emotional being and it it's not her rational logical side that even matters if she's a feminine woman it's about how she feels right now she needs to be made to feel like you will love her right now foreign you could do this how the Hollywood movies and the modern day materialistic propaganda capitalistic machine want you to with these big romantic gestures and and the box of expensive overpriced chocolates on Valentine's Day and look honey I got you flowers and look like you know the the sad chump who like brings like um all the at least these these moments could be nice right this isn't me criticizing a Gentleman Just just understand this there is a brainwashing and conditioning that's been going on for a long time in the minds of men from movies that we've seen from the ways that you know what we've seen in school that the way to show your woman love is a big romantic gesture especially when you spend money make sure you spend money make sure you spend money make sure you spend money that's what they want you to do but remember what we said before we need to make her feel loved right now in every micro moments and so you could do the big romantic gesture and the sweet dinner date that's really expensive and she'll feel loved for 30 seconds you bring her into the bedroom and there's rose petals all over the floor she'll feel loved for five seconds done now right now that moment's already gone okay she's seen the pencils okay she's seen the dinner day okay she's eating the food right now that that moment's gone what about right now this is what you're not really told it's not about these big moments that are so expensive for you to conduct and to that show your love or anything it's about the smallest micro moments every as many moments as possible that's how you make her feel loved you don't need to spend money on this you don't need to make some big gesture for this in fact the smaller and more consistent and more quantity of these moments where you make her feel loved is actually better so the way that I think is best to do this is to change the way that you talk to your woman and there's something that I wrote down in fact I'll read it to you right now so yeah it's on my phone foreign act like you're on mushrooms with her all of the time just act like him for if you are wondering I've not really spoken about like psychedelics much but I've taken mushrooms like psychedelics like maybe 10 times or so and I'm not like a professional like uh shroom knot or whatever it's called but like I'm kind of like a fan of them I'm really getting like a lot of positive benefit from this and what I found is that if if you haven't ever taken psychedelics before at least for me personally I turn into like such a a romantic almost like it's out of a movie the way that I speak to my woman the way that I speak to her and I just wrote this down imagine like you're on shrooms with her all the time I remember remember this is I've wrote the song Right remember how you used to talk to her like it meant something and this is I literally wrote down what I was gonna say to her when I was gonna give her this the seashell this is a gift for you my love the ocean gave it to me and now I give it to you keep it safe forever as a token of my love so you can change the way that you talk and you can talk with this extra level of of energy of emotion and or more seriousness like you're in a movie and this doesn't need to be all the time and of course it sounds a little bit cringe when I'm saying what I was gonna say to my girl to you it sounds a little bit cringe but that's because you know the context has changed the context has changed now I'm speaking to you through the internet and you know people are listening and everything like that compared to like me passionately with my girl there's a difference change the way that you talk to her and talk to her and more of like this this beautiful serious way better than the mundane I love yous that we throw out there like grab her cheeks I put both hands on her cheeks look and deeply into her eyes and just feel the love that you have and say say what's on your mind I won't give you like some pre-built statements that you can say to her but there is like some some almost movie star level sentence and and stuff that you can say to her that will arise if you let it if you don't stop you're on the process because it feels a bit cringe because you don't usually talk like this trust me if she is the right girl and she's totally in love with you and you act like this and you talk to her with seriousness like with this level of like you know of this like psychedelic love she will you will physically see this I promise you you will see you're holding the cheeks like this or you know you're holding your hands you will see her as you say these like sweet words melts she will literally melt in your arms at least that's the energy that I get from my girl maybe your girl's energy is different and you know she picks up and she's so happy to hear it or something you will physically see her energy just change which is beautiful and so the fastest way that I've personally if I was going to recommend anything of course there's a not like a recommendation you can do whatever you want but like the fastest way that I've personally been able to like level up how much she feels loved but also how much I love her is taking psychedelics together they've been a beautiful part of my journey over the last few years extremely impactful maybe I'll make like a whole separate video of of the experiences that I've had on psychedelics they're kind of like a controversial thing and I'm not some like guy who's constantly doing them or anything in around three years or two years I've done them maybe I think seven eight times or something like that but if you are interested if there's a bunch of comments saying like oh yeah I should do that maybe I will it's just something I've assumed people will find too controversial or people might not find interest I don't know how to make love so we've talked about how to make her feel loved and and how to love her and everything but perhaps the most important and the fastest way to do this is actually making love like that like actually having sex in the book The Way of the superior man he defines sex as the bodily transmission of Love think about that that phrase that is perfect for like the definition of sex the bodily transmission of Love That is a perfect phrase and yeah it doesn't work for most people because most people don't transmit love to each other when they're making love unfortunately most people I would assume they're unconscious they're overthinking they're neurotic they're self-centered when they're actually like getting passionate with you know the woman making love is is the way that you're you know magnify everything that we're talking about today if you are presence conscious and actually doing it in some kind of loving way and I don't mean to you know oh you're gonna do it slowly or something you can still [ __ ] it but but doing it with the elements of Love behind you there's something there's like a system that I made for myself and it's called dap plus cap dap plus cap and it stands for dominance aggression pain connection authenticity presence I found that when I keep these six things in mind as I make in love my performance and the enjoyment and the connection of everything goes up so much more dominant aggression pain connection authenticity and presence Pain by the way is an interesting one I found that you need to like most guys this is a controversial subject and stuff and maybe we shouldn't talk about it like widely on YouTube because people will take out of context but I found that you as a guy who's you know masculine man who wants to dominate your woman you need to be okay with the feeling of inflicting pain on her that like a woman who's in love who's having sex can experience like a lot more pain than you think she can and it's a part of actually making the love like there is a level of like soreness and painfulness in the the DAP plus cap system just trying to remember that the next time that you know if it becomes relevant for you and if you're interested in one of the links in the description I've got a course where I teach this in full there are exercises now we can get quite practical here there are exercises that you can do that will make your your love making sessions significantly better like quite literally like five times as good and there was a point just a few months ago when I was in London about um three months ago four months ago that I had stopped all these exercises and I had even stopped a lot of the normal exercise like weightlifting and cardio that I was doing and so I became like quite relatively unfit for my own like you know um skills you know my own sort of memory I became quite unfit right and it made a huge difference it made it that I wasn't even present when I was making love it made it that my performance was way worse that I was slower that I was lethargic that I would get tired that you know like that you just can't go with the same like aggressive Primal penetration that you used to and so I know that this is getting like practical here but I really hope you can appreciate this there are exercises that you should consider 100 and those are in order stuff first of all hit high intensity interval training so this is you've heard about this kind of cardio this isn't just you know going on on a run for like five minutes or 10 minutes that could probably help but hit training high intensity interval training where you go for a Sprint and then you slow down for a few minutes and then you sprint again for 20 seconds then you slow down for a few minutes then you sprint again that kind of training where you go hard then you slow down then you go really fast then you slow down like this and this happens in Crossfit workouts in martial art and boxing for example you go for Rounds this hap this makes you so much better at like the breathing elements of your performance when it comes to love making it makes a huge difference it genuinely does and I know it can seem kind of weird why I'm teaching this as part of this video but again making love is incredibly important in what we're talking about and then being able to actually for example have the fitness to be able to make love is also incredibly important then the next thing I realize is training your core so a lot of guys especially bodybuilders and weightlifters think that they can just kind of forget training their core and that they can just do squats and deadlifts and I found that that doesn't actually cut it doing your own like specific core workouts ab workouts crunches planks they make a huge difference you can find like you can feel if your core is letting you down when it comes to having sex if it just gets really tight and it burns as you know like like you've been working it out that means that it's the weak spot and if you improve it suddenly like you ease open the bottleneck and you can literally go like better and the final thing that we will talk about is kegels kegels however you say it there's a muscle a direct muscle that you can use that directly influences literally your erection and also like how far you can ejaculate like there's of direct muscle that you can train that will make you harder last longer that will make it so that she feels better and it's called the Kegel muscle like the PC muscle and there's two easy ways that I'd explain this there's like two kind of muscles that we want to train and there's easy ways to explain this the first one I want you to right now Act to activate the muscle that you would if you wanted to stop pissing imagine right now you were having a piss right you're having a piss the the urine's coming out and then you want to stop the piss what would you do do that do that movement right now it's almost like you're like sucking in that kind of area that's you we can say it's like one key go like one rep that's one but then another element is imagine if you were having a piss and you wanted to push it out faster like imagine you're in a rush or something so you can you can like pee at the normal rate but you can push out faster P can't you that is another part of the training if you can do that right now and you won't like pee yourself in anything the same thing I imagine you're pushing it out those are two different like ways that you can train these like sexual muscles and I found that when you put intention into this for literally just a few days you will see an improvement to your lovemaking like a significant Improvement it the reason why I'm talking like this you know it's such a practical tip to give you in this kind of video it's because it genuinely will be the fastest Improvement to your lovemaking which will then genuinely be the fastest Improvement to making her feel loved we can talk now about setting rules and expectations as a father would this is a controversial part of loving a feminine woman that the modern day the modern world do not understand this one single bit a good father would set a very clear house rules for his daughter very clear this is what you do this is what you eat this is how you behave this is the words that we can use this is the words that we don't use this is what time you've got to come home from school everything like this and this is absolutely perfectly normal and healthy for a father to do this for his daughter but then it gets kind of weird to set these kinds of rules and boundaries for an adult for a grown woman and the modern world around this question this heavily and says that this is toxic controlling everything but again if you are a masculine man dating a feminine woman this is what she needs why because if she's a feminine woman it means that she's had a masculine father and she will be attracted to the man who acts in a somewhat similar way to her father her father used to say okay come do this no not in a horrible way you know but I can't come do this it'll be good for you no no don't do that it'll be bad for you is used to her father being like this and now when she grows up it's almost like she wants to be passed on to the next man who can direct her life in the way of the superior man that book that I mentioned before there's a quote which says she wants to relax in the guidance and the direction of your your masculinity she wants you to be certain not just for yourself and your own Direction but what she should do and often most guys are not comfortable with this most guys literally are so like like anxious with this and the reason why is because you will get punished in the modern day if we talk about this out loud like I'm doing right now you will get people who respond to you and say that you're manipulative you're misogynist everything but the truth is a feminine woman actually needs this and will be more in love with you if you act in a kind of a similar way as her father did when you set rules and expectations and boundaries I journaled a lot for this video there's like four pages in the modern day everyone is depolarized honestly most like couples are depolarized the man's not that masculine the woman's not that feminine this means everyone's quite unhappy and because most relationships are like this now we see man and woman as equal we have equal rights and so we are equals the problem with this this equality thinking is that then we don't need each other the necessity of of being in a relationship disappears when you're equals when you're equals you don't need each other anymore it sounds weird but one of the best pieces of advice that I could give you is to not treat her like like she's really cool it sounds weird and people will quote this and and try and terrorize me and everything and they'll say that this is horrible one of the best pieces of advice that I could give you is to treat her like she's weaker than you you know why this is gonna make you be so much more loving to her because if you genuinely keep in your mind that she's weaker than you which is actually on objective fact she is weaker than you then you will act like the good happy agile active father she needs something so you're gonna stand up and go get it for her and she's gonna love that this is not something she's broken something and you're gonna sit down and help her clean it the weak lazy father who thinks that his daughter's grown up enough oh we need milk and he throws her a pound like you know a dollar or something oh yeah go go get it he says to her in the modern day this is what a lot of relationships are like the man is acting like an equal or even below the man is acting like the boy the son to his woman the mother and this is why relationships have gotten so ucky for a lot of people especially if you're able to resonate with me and you know like feel the similarities between maybe if you you feel kind of similar to me in some areas if you're a masculine man you'll find that in deeply unattractive to think that your woman is gonna guide you your woman's gonna like look after you she's gonna provide for you that she's gonna make half the decisions treat her like you would your daughter you would do a lot for your daughter you would be the one to protect her you'd be the one to jump up out your seat when your daughter needs something if you were like the good happy father she expects to follow you remember this is not all women honestly this is we're talking about the small amount of women right we we never wanted to date 90 of of women right um I was gonna say no offense to the barnacy offense to them we like 90 of men and women are just like Low T or aren't they you look around everyone's on Tick Tock everyone's watching porn and playing video games and eating junk food and taking drugs and stuff okay 90 of people are just like we don't okay if you're on self-improvement if you're meditating if you're going to the gym you can't even relate to most people we don't want to date some normal masculine independent woman if you wanted to date a feminine woman this is what she expects because her father acted like this and there is something iconic with how man and woman used to get married her father used to walk her down the aisle and pass her to the husband in the modern day feminists say that this yeah this was like some some ceremony that was so Barbara no it wasn't he was her protector the father was her provider and then he passes the responsibility onto the husband that is one of the like that is the most sacred moment that a father could have is like thinking to himself I'm passing like you know my how much I have looked after my little girl to this man and I am trusting this man to look after this the same way that I did that is the most beautiful moment the husband and father could see and in the modern day like feminists and men with like skinny necks and long hair is saying like oh yeah that's barbaric it's sexist let the that let the feminine woman decide if there's a masculine woman out there who thinks it is more better okay fine the thing is what we're just doing is just invoking our own consent and our own preferences and we're attracting like we want to attract the feminine woman who actually expects this because her father who's still around who's not divorced from her mother her father raised her quite tightly securely her father set rules and said no no we don't do that because of this no yes we do no come on we do this thing no we don't stay out that late no you know what you can't be friends with that girl because she's not good for you her father was like this for a good feminine woman that like you think is actually good quality her father would have it like that this is the only way a woman can be of good quality her father was like this and so you must be like this too you must be okay with being seen as a misogynist patriarchal figure you must be okay with setting rules and expectations and telling her what you can and can't do foreign if you know that you're supposed to be a man like this if this sounds like absolutely right and you couldn't even imagine a relationship where for example you didn't get to say or you know make your girl do something that would be weird for you you've got to be authentic with this because a lot of guys don't have the confidence to admit this but if this is your desire to have this kind of relationship where genuinely you are in control of your woman then be authentic to it of course this is going to be with consent with age-appropriate adults and everything so no one can ever like criticize us for this be authentic with your desire with this the extreme level of this now she's going to be embarrassed when I tell this like mini story The Extreme level with you know you telling your girl what to do and her looking to your guidance is that when you get to the extreme levels of feminine energy inside of a woman where she has like literally zero Independence when she's with you and she's totally 100 submissive when she's with you is something that I've just experienced a few days ago where I was having a shower and my girl lives with me right she's like we've been all like we've traveled a lot the last six months in different countries we lived in different countries right I was having a shower and it just hit me I was like wait she's going to be embarrassed when I tell this story it hit me I was like she's not I had a shower in like two days or for a little while and I know this isn't like weirdest it's embarrassing to say and people are gonna find this weird but the reason why this hit me and I thought oh yeah because like I've gotta tell her to I've got to tell her like oh yeah not like I'll go have a shower stinky but like you know come come shower with me and it this is when it hit me of how sweet this is even though that's kind of like a gross example it hit me because it made me realize just how much responsibility I have to take as a man that I have to think of her basic needs just as I would a father to a daughter now you might hear that well probably not you but like you know there's going to be some people who would hear this and say oh well that's that's gross and I want a woman who's more independent and that's real that's weird whatever your preference is fine but then I can have mine you can have yours right the thing is there's a lot of people listening to this there's a lot of men out there perhaps you're one of them who actually in a weird way think that that's kind of attractive she didn't take a shower unless you would kind of tell her oh yeah like come with and of course if she lives by herself if she lives with her family or roommates or something of course that's going to be different and you know you're not coming you don't want it to be like oh yeah she's literally just sat there and felt till you come visit again of course this is on the dynamic of like oh yeah we live together we do a lot of things together so if I've not like brought her into the shower for like two days or something it kind of like oh yeah it just you know brushed past her mind or something and girls do I sometimes do this weird thing where they don't shower for like a day or something because they don't want to get their hair wet I don't know but you get what I mean right she's gonna be embarrassed that I told this story but hopefully there's gonna be some guys maybe you're one of them who kind of understand what I'm getting at here that there's a lot of responsibility to take here there's a lot you have to think about her fundamental needs and so now I'm getting I'm personally getting better at this I wake up come on baby let's brush our teeth because if I don't say that she might not and again a lot of people with no no that's weird that's weird fine fine but a lot of masculine men see this level of feminine submissive dependent energy in a woman and think that is exactly what I'm attracted to I want her exactly to be like an extension of my arm I want her to be mine I don't want her to be this independent girl who can go live her life I want her to be mine and so this is where it gets really controversial and many people can disagree and many people can say that this is too far or anything for me personally this is the right level she's happy I'm happy maybe you want something similar maybe you don't but I'm just telling you as an example this is like the extreme example of like okay when she's totally submissive just like a daughter would be like a young girl would be this is what it's like and actually we have two comments here that I want to read that guys have left comments on my YouTube there's a comment from Zaid chakras realize you can't find a good girl you must guide her in the right direction yourself and then there's a comment from a guy on YouTube his name was Chad on YouTube love your woman like a one-year-old daughter on dating a feminine woman this is the key love your woman like your one year old daughter like your poo poo poo PP one-year-old daughter you cannot go wrong if she's a feminine woman you cannot go wrong with this in your mind love her like she's my one-year-old daughter oh she says something like a little bit too rude or something oh yeah no you're a poo poo head oh she's like she's she's misbehaving a little bit no come on come on always loving her you went with your daughter wouldn't you imagine your one-year-old daughter acts in some kind of way with slightly disrespectful you'd still love her you'd still grasp her in and then she knows oh there is secure love here this is not like rewarding bad behavior this is not going against the red pill or anything this is just to understand it in a slightly like condescending way that actually she isn't that far off from the one-year-old daughter in terms of how we would behave to her of course she's matured of course she's developed you know this sentence that I'm saying right now will not be quoted when some male feminist puts us on his YouTube channel or his videos or his articles or something but of course like of course she's developed since she's one years old but for your own benefit and for her benefit if you just imagine and treat her like she is your one-year-old daughter your relationship will drastically improve as long as she is a feminine woman and of course the disclaimer there's going to be masculine women watching this there's going to be male feminists watching this who get angry at this this is the most controversial part of this video and I know that a lot of people will take it out of context but those people generally aren't even in happy relationships anyway those are the kinds of people who are on antidepressants and then say that like what we say about self-improvement and everything is is toxic and how are they who who are they to give us advice anyway living together so this is a very specific few tips I can just give you because I've kind of like lived with my girl for the last six months or so so in brief like the story of us is that we met in Thailand in uh July last year in 2022 I was traveling with my best friend Sam she was traveling with her brother and one of her female friends and then we met literally on my last day in Thailand so I was about to fly out the next day we met and in the first day that we met both of us actually fell in love which was a very magical experience and there's a lot to say about that there but yeah I um I flew out back home and we stayed connected which is quite rare for me like I don't do like internet relationships or anything but this was very rare for me that I I still had this extremely like strong pull towards her as she did with me halfway across the world and then shortly after she she was meant to keep traveling but shortly after she just booked a flight and then a 12 hour flight from Thailand to London and then a four hour train to come see me for a date she traveled genuinely this is an exaggeration she genuinely traveled the globe to come see me for updates we had the best dates of our life which was a one week road trip we didn't even use technology we literally drove around the UK drove around Scotland didn't use technology slept in the car best week of my entire life best week of her life and then she went back home for a few days and I told her okay I'm gonna book like a place in Scotland close to where we were then we stayed together there for a month and then we drove down to London and we essentially moved to London because that was my plan for last year I was going to move to London moved to London but only for two and a half months I was meant to stay there for a year but then I just hated it I hated out unsafe and how like degenerate London and just wet the West is in general the UK cities are just horrible this is a side runs so we were there then we flew out to Dubai and really liked it there for two months and then we went to Thailand went to Shanghai and right we've been to so many different locations and so I'm just gonna give you some advice from the experiences that we've had because we've technically lived together but of course in many different areas and living together living with your partner is a tricky situation to begin so maybe you can skip this if you don't expect to live with your girl for a while or whatever but it you know if you do if you are ever expecting to move in together which maybe would be you know the the right thing to do especially if you're gonna have children or something we're not planting such kids right now but I've just got like one or two tips I wanted to give you here living together is the fast track to depolarization because of familiarity so that's a bad thing living together is the fast track to depolarization so depolarization is when the man becomes feminine and or like at least your energy just kind of gets like in this weird Gray Zone where you're not Ultra masculine she's not she's not Ultra feminine because you just spend so much time with each other when you were apart she thinks of you as Superman what's he doing who's he with what girls is he speaking to what you know she's got all these big things of you and then when you spend all day together it's like she smelt your poo by [ __ ] seven I was gonna say seven times a day but maybe it's not that much for you but I eat a lot of protein but you know what I mean the mystery's all gone and it can be very easy to lose a lot of the excitement and love at this point and I've also found that when you are living together you are bound to rub off each each other in the worst where your bounds are just agitate each other slightly at some moment which can actually be kind of significant at least for me I I really get agitated at how slow she is I'm just complaining but you'll get why in a second because this is important for you in cases you've not experienced this it's just in cases you know because I I lived with a girl three four years ago remember that I told you the comparison story where I had like the trip with my girl but then four years ago I was fapping at night time and I was living with like my ex-girlfriend right I lived with her I moved in with her and I had never looked into like living with a girl before I wish that I had this part of this video like four years ago and so this is why I'm giving this very specific example you rub off on each other in the worst way when you live together because you see these micro moments of each other which are kind of annoying so for example as a man oftentimes you want to go quite fast in some areas so for example when it's time to go to the gym for me personally maybe for you you want to put your music in put your shoes on okay go you know I mean you're like in this flow of like going forward come on let's go let's go to the gym and smash it and everything and then you walk out and your girls like oh I forgot my towel like you know she's having a good time she's holding a little hip thrust pad while she's smiling at you and stuff and you're listening to like like aggressive music on the way there like drill music or something or metal music and she's there forever smiling at you like oh what do you want to eat for lunch after like shut the [ __ ] up like sometimes she's slow you know I ride motorbikes and so sometimes it's like my girl just spends too long with the helmet and you know she's got the airpod in and then she drops the airpod the reason why I'm saying this you know it sounds like I'm just complaining is because this is very micro but these small things bother you when they can happen every single day or multiple times a day which is what happens when you live together living together is a fast track to annoying each other but there is so many benefits you get to see like like you're on the micro moments through the day you get to see some beautiful moments there's a moment when I heard my girls laugh like at night time you know we were just like goofing around giggling about something and she just laughed in a particular way and honestly it made me like it really hit me with some significance because I couldn't help but just hear and feel and visualize that like that's how she would laugh with gray hair 40 years from now like we're still laughing in the same way there's a lot of good benefits and you know having like a good woman around a feminine submissive woman around there's a lot of benefits to that it depends what you're after if you do want to live together or not I'm not going to tell you to but there is one good tip I can give you which is that try to have a some kind of daily separation and reunion so what I mean by this is that even if you live together don't spend all day next to each other you know okay so we're gonna wake up and we're gonna brush our teeth and we're both gonna go to the gym together then we're both gonna go to like this restaurant together then I'm gonna work here and you're gonna go sit there and read or something you're gonna work there don't be together all day even though you live together I found if you have even a small amount of Separation through the day like for example right now I'm working in this office space and she's downstairs in the apartment this is amazing because I'm gonna walk in and we haven't seen each other for like three hours or four hours so there's like a reunion we're gonna you know it's like it's gonna be nice to see her she's missing me right now so we're gonna go in for a big hug and it's gonna be a lot more passionate imagine the exact moment I walk in that exact moment when we hug each other that's going to be more passionate than if I hadn't been anywhere today wouldn't it imagine okay I get home 605 p.m at six or five PM we're gonna have a big hug or you know she's missing me I've been gone for a few hours let's go get some food if I didn't go out today at six or five PM it's not like we would have just suddenly like stood up and just oh yeah yeah oh like you know I missed you so obviously not right that's separation and reunion if it can be daily can be beautiful maybe go to the gym by yourself maybe sign up for some kind of Class by yourself maybe sign her up for a class that would benefit her and it would help her to go to grow and then I have this is a specific thing which not a lot of people could maybe do but try to avoid long-term stability this is I think an absolute killer for like middle aged relationships you know of like married couples they move in together and it's just that's their life now and yep they go to work the same job for 10 years and you know the same routine and everything and it gets just routine and and just mundane extremely quickly and then for 10 years and 20 years you know they try and spice things up by taking an extra honeymoon or something but it doesn't work because they have this long-term stability one of the really good things that me and my girl have had is that we've been all over not not you know purposely that yeah let's just go traveling but just because I'm a young man and I'm following my purpose us and I want to keep moving around to try and see where is a good place for me to like you know call home it was a good place for me to set up I have a residency now in Dubai which means that my company makes zero percent tax so that was exciting to move there for that we moved to London to see if that was the place where I didn't like it you know imagine every time you move of course moving is kind of stressful but it's like it adds this extra freshness and this extra dependency that she has on you married couples don't do this like maybe a married couple moves like once in their life or twice in their life and then it gets very mundane it gets very boring if you're a young man watching this and you are like living with your girl you can go on like you're a lot Freer than most people are especially if you make money online if I was a young couple right now I wouldn't book some like place to live like some home for a year you know to rent this apartment for a year and I would certainly not buy some house in like my hometown that I see a lot of young couples so I certainly wouldn't do that because then you're tied down there and then you've got to kind of just stay in that one area and things get mundane very quickly it'd be best if you stayed quite short term here one month here two months here three months and even though yeah the headache of moving is annoying what actually would happen is that you have such significant chapters of your life with this woman because you've experienced so much so they're the two like learning lessons I've had in terms of living together now let's say you've you've done a bunch of this stuff where are we continue being the best man that she could get I would absolutely have to include this part in this video because even though we're just talking about loving her she only wants your love for as long as you are competent and attractive for as long as she is actually still in love with you this is a major issue what a lot of guys go through they think that the end goal is to get into the relationship and they forget that actually that is the start it's not the end goal to get into the relationship that's the end like that's like the start of the new big thing to think about most guys get into the relationship and kind of relax put their feet up go to the gym a little bit less spend less time with their friends be less mysterious relax and spend more evenings just watching Netflix and wasting away with instant gratification the thing is you are a man on self-improvement and you were able to attract her because of the man that you became because of your discipline because of delaying gratification because of your self-improvements letting those things slack what because you've just got her this is controversial as hell she will leave and she has the right to do so because there is something called Branch swinging and this is really interesting Branch swinging is when a woman is with you but she will like as a monkey would she's got one branch right now but she's kind of you know looking for the next Branch to swing to and she will grab the branch before she lets go of the current one and and of course people will take this out of context I'm not describing women as monkeys or cheaters or anything but Branch swinging is essentially where most women especially this is the interesting thing especially feminine women are so much more likely to like essentially like leave you abandon you and to choose another guy and even to cheat because of evolution because she needs to constantly be with the best guy that would give her the best genes for her children and also that would keep her children safe if you display weakness if you get complacent if you start lacking in the things that she was attracted to it's natural for her to start looking elsewhere most guys don't want to like think about this most guys reject this and then get angry towards women and say wait the the cheaters that's horrible yeah I don't care about women anyway most women hear this and get offended no we're not cheetahs and everything but this is absolutely normal healthy and necessary how do you say that word necessary for the the evolution of humans for the survival of our species women must find strength she must find and be impregnated it by a man of strength always and so if you start to show weakness she can't help but to lose that attraction in you this is the point where you must continue being the best man that she could get and there is something we've got to say here the sexual Marketplace essentially how we date gets more and more competitive competitive every year you probably hear that like a hundred years ago to attract a woman all you needed was like an okay job a car and if you were like a decent man you'd be married with Children these days it feels like you need to be six foot one with really attractive face and you need to have a good body and you'll also need to make a lot of money and you need to have good personality and you need to know the tick tock dances and you need to have the tick tock following and everything like that you need to have bring a lot to the table and every year what's required for you to achieve love from this woman goes up and up and up the sexual Marketplace is getting more and more competitive now is not the time to get complacent you must understand that if you get into a relationship with this woman you need to not just stay the same certainly not get worse you need to get better significantly better whilst with her because all the men are getting better you need to see this in your mind right now other men are getting better or the men want your woman the next time you go to the gym you can do this visualization a lot of guys won't because it's gross but the next time you go to the gym especially if you go at peak times just look around at some of the masculine like attractive hard looking guys there look around at that massive bodybuilder over there look at that guy covered in tattoos over there look at that white skinhead over there look at that black guy who looks quite fashionable look at that guy over there look at that guy look at that guy they would all love to slam into your girl's [ __ ] and I know this is gross but I just sometimes you need like you need to like hear this sometimes because you like it we live in this like safe modern world where we don't discuss this bro other men want your woman other men want your future wife of course they do right if she's desirable of course they do right and it's up to her to like you know like not be receptive to them and stuff right but the thing is other men are getting more attractive there are guys out there who are who are building more muscle who are building more success who are getting fitter who are getting more attractive who are confident who will look your woman in the eyes until she looks away and slightly smiles to herself because he was kind of hot I know she can't help but feel quite attracted to him because you've gained five percent body fat since you've been with her these are like these dark parts of like female psychology of loving a woman that most people don't want to talk about because it's gross to think this and yet if you do think that it's just every now and then that there are other guys out there who would happily happily pound your woman and honestly she'd be happy with it too if eventually you guys broke up you know she's gonna get with another guy eventually it's worth just thinking okay I'm not gonna let that happen [ __ ] that guy over there I'm gonna keep going to the gym I'm Gonna Keep lifting really hard I'm gonna make sure my diet's on point I'm gonna make sure I'm not just wasting away playing video games or just relaxing for no reason it's worth thinking this because a lot of guys get complacent with their girl with this sense of like eternity yep she loves me and things are going to be the same forever no she loves you right now remember those two special words right now the moment that she really senses weakness inside of you that love starts to diminish and she it is natural and healthy for her to start weighing up other options to start grabbing that other branch and you don't want that to happen it's important to keep this in mind that this is part of her female brain and finally once you've done all this once you've done all of everything that we've talked about to make her feel loved it meant nothing it meant nothing you've done all of this and yet all of this was in the past all of this was in the past all of those cute romantic gestures and how how masculine you've been is in the past what happens and what matters right now is right now this moment this present moment this is what men really struggle with and this is why I feel so hard to attract women what matters is what's happening right now how she feels right now if you've done all this and you've done those cute romantic gestures and you've been like you know that guy with the six-pack to a tractor that was in the past and it's gone now what matters is how you make her feel right now this is a constant tussle a challenge of loving a feminine woman and it sounds crazy it sounds horrible we don't want this like we want something more stable we want something with you know more long term but the thing is this is actually just one it's the hand like the card that we've been dealt but two this is what we're attracted to we're not attracted to masculine women we're not attracted to like the independent woman who's certain of her career and everything we're attracted to this cute emotional being who needs this constant reassurance right now who values love and how she feels right now now above everything else and so your track record does not matter that is the quote from the way of the superior man your track record does not matter what matters is how she feels right now you don't need those grand romantic gestures you don't need that like you're the the hot um air balloon where you propose or any cute stuff like that you need those micro moments where she feels in love with you right now especially well with the requirements that you are that top tier guy that she's attracted to if you can maintain that and even grow it and constantly remind yourself that I need to make her feel loved right now right now right now right now in every moment then you will do well with her this is the great Challenge and it is extremely challenging once like there'll be a point I don't know if I've done it for you in this video but there will be a point where it'll really hit you and you'll think wow like this is actually like tricky this is actually kind of difficult this is actually a constant hurdle that I need to achieve but it's worth it there's a woman outside little Asian woman right now like a really grandmother or something like just talking loudly on the phone right behind me this is not the end this is the beginning\n"
     ]
    }
   ],
   "source": [
    "print(corpus)"
   ]
  },
  {
   "cell_type": "code",
   "execution_count": 8,
   "id": "44903161",
   "metadata": {},
   "outputs": [
    {
     "name": "stdout",
     "output_type": "stream",
     "text": [
      "Number of characters in the corpus:  90462\n",
      "Unique characters:  68\n"
     ]
    }
   ],
   "source": [
    "print('Number of characters in the corpus: ', len(corpus))\n",
    "print('Unique characters: ', len(set(corpus)))"
   ]
  },
  {
   "cell_type": "markdown",
   "id": "ab16153c",
   "metadata": {},
   "source": [
    "### Recursive Chunking"
   ]
  },
  {
   "cell_type": "code",
   "execution_count": 9,
   "id": "fb8d3496",
   "metadata": {},
   "outputs": [],
   "source": [
    "from langchain_text_splitters import RecursiveCharacterTextSplitter"
   ]
  },
  {
   "cell_type": "code",
   "execution_count": 10,
   "id": "ea05a7d7",
   "metadata": {},
   "outputs": [],
   "source": [
    "splitter = RecursiveCharacterTextSplitter(chunk_size = 1024, chunk_overlap = 64, length_function = len)"
   ]
  },
  {
   "cell_type": "code",
   "execution_count": 11,
   "id": "602ed60f",
   "metadata": {},
   "outputs": [],
   "source": [
    "document_corpus = splitter.split_text(corpus)"
   ]
  },
  {
   "cell_type": "code",
   "execution_count": 12,
   "id": "fb9d40bb",
   "metadata": {},
   "outputs": [
    {
     "name": "stdout",
     "output_type": "stream",
     "text": [
      "Number of document:  95\n"
     ]
    }
   ],
   "source": [
    "print('Number of document: ', len(document_corpus))"
   ]
  },
  {
   "cell_type": "markdown",
   "id": "0a4095b1",
   "metadata": {},
   "source": [
    "### Mistral7B For HyDe"
   ]
  },
  {
   "cell_type": "code",
   "execution_count": 13,
   "id": "4f92f82b",
   "metadata": {},
   "outputs": [],
   "source": [
    "from typing import Optional\n",
    "from llama_cpp import Llama\n",
    "from langchain_community.llms import LlamaCpp\n",
    "from langchain_core.prompts import PromptTemplate"
   ]
  },
  {
   "cell_type": "code",
   "execution_count": 14,
   "id": "5a3cbcf1",
   "metadata": {},
   "outputs": [],
   "source": [
    "class LLMHypothethicalQuestions:\n",
    "    def __init__(\n",
    "        self,\n",
    "        gguf_ckpt: str,\n",
    "        max_tokens: int = 1024,\n",
    "        top_p: float = 0.97,\n",
    "        temperature: float = 0.1,\n",
    "        show_log: bool = False,\n",
    "        prompt: Optional[str] = None,\n",
    "    ):\n",
    "\n",
    "        # Initialize the LLM\n",
    "        self.llm = LlamaCpp(\n",
    "            model_path=gguf_ckpt,\n",
    "            temperature=temperature,\n",
    "            max_tokens=max_tokens,\n",
    "            top_p=top_p,\n",
    "            verbose=show_log,\n",
    "        )\n",
    "\n",
    "        if prompt is None:\n",
    "            INSTRUCTION_TEMPLATE = \"\"\"You are a question designer, given a paragraph you generate a question from the paragraph.\n",
    "            Let's Think Step By Step.\n",
    "            Paragraph: {paragraph}\n",
    "            Generated question:\"\"\"\n",
    "            self.instruction_prompt = PromptTemplate(\n",
    "                template=INSTRUCTION_TEMPLATE, input_variables=[\"paragraph\"]\n",
    "            )\n",
    "\n",
    "        else:\n",
    "            self.instruction_prompt = PromptTemplate(\n",
    "                template=prompt, input_variables=[\"paragraph\"]\n",
    "            )\n",
    "\n",
    "        # Build a chain\n",
    "        self.llm_chain = self.instruction_prompt | self.llm\n",
    "\n",
    "    def generate(self, paragraph: str) -> None:\n",
    "        out = self.llm_chain.invoke({\"paragraph\": paragraph})\n",
    "        return out"
   ]
  },
  {
   "cell_type": "code",
   "execution_count": 15,
   "id": "e30f9c89",
   "metadata": {},
   "outputs": [],
   "source": [
    "# Hyperparams\n",
    "CONTEXT_LENGTH = 2048\n",
    "MAXIMUM_BATCH_SIZE = 1048"
   ]
  },
  {
   "cell_type": "code",
   "execution_count": 16,
   "id": "0f6a6e58",
   "metadata": {},
   "outputs": [],
   "source": [
    "mistral_cpp = Llama(model_path='../GGUF_models/mistral-7b-instruct-v0.1.Q5_K_M.gguf',\n",
    "                    n_ctx = CONTEXT_LENGTH,\n",
    "                    n_batch = MAXIMUM_BATCH_SIZE,\n",
    "                    verbose = False)"
   ]
  },
  {
   "cell_type": "code",
   "execution_count": 17,
   "id": "7e92e368",
   "metadata": {},
   "outputs": [],
   "source": [
    "INSTRUCTION_TEMPLATE = \"\"\"\n",
    "You are a question designer, given a paragraph you generate a question from the paragraph.\n",
    "Let's Think Step By Step.\n",
    "Paragraph: {paragraph}\n",
    "Generated question:\"\"\""
   ]
  },
  {
   "cell_type": "code",
   "execution_count": 18,
   "id": "2cd34311",
   "metadata": {},
   "outputs": [],
   "source": [
    "instruction_prompt = INSTRUCTION_TEMPLATE.format(paragraph = document_corpus[12])"
   ]
  },
  {
   "cell_type": "code",
   "execution_count": 19,
   "id": "69d33163",
   "metadata": {},
   "outputs": [
    {
     "name": "stdout",
     "output_type": "stream",
     "text": [
      "[1, 22557, 28725, 1526, 28808]\n",
      "[1, 851, 349, 5710, 1650]\n"
     ]
    }
   ],
   "source": [
    "# Sample tokens\n",
    "print(mistral_cpp.tokenize(b\"Hello, world!\", special = True))\n",
    "print(mistral_cpp.tokenize(b\"This is mistral\", special = True))"
   ]
  },
  {
   "cell_type": "code",
   "execution_count": 20,
   "metadata": {},
   "outputs": [],
   "source": [
    "MAXIMUM_TOKENS = 1048\n",
    "TEMPERATURE = 0.1\n",
    "TOP_P = 0.99"
   ]
  },
  {
   "cell_type": "code",
   "execution_count": 21,
   "id": "76516650",
   "metadata": {},
   "outputs": [],
   "source": [
    "# Sample forward pass\n",
    "response = mistral_cpp(\n",
    "    prompt=instruction_prompt,\n",
    "    max_tokens=MAXIMUM_TOKENS,\n",
    "    temperature=TEMPERATURE,\n",
    "    top_p=TOP_P,\n",
    ")"
   ]
  },
  {
   "cell_type": "code",
   "execution_count": 24,
   "id": "60c52803",
   "metadata": {},
   "outputs": [
    {
     "data": {
      "text/plain": [
       "'What is the point where you will have the girl, and why is it important to focus on self-improvement before that point?'"
      ]
     },
     "execution_count": 24,
     "metadata": {},
     "output_type": "execute_result"
    }
   ],
   "source": [
    "response['choices'][0]['text'].strip()"
   ]
  },
  {
   "cell_type": "code",
   "execution_count": 28,
   "id": "d19aa103",
   "metadata": {},
   "outputs": [
    {
     "name": "stdout",
     "output_type": "stream",
     "text": [
      "Processing 1 out of 95\n",
      "Processing 2 out of 95\n",
      "Processing 3 out of 95\n",
      "Processing 4 out of 95\n",
      "Processing 5 out of 95\n",
      "Processing 6 out of 95\n",
      "Processing 7 out of 95\n",
      "Processing 8 out of 95\n",
      "Processing 9 out of 95\n",
      "Processing 10 out of 95\n",
      "Processing 11 out of 95\n",
      "Processing 12 out of 95\n",
      "Processing 13 out of 95\n",
      "Processing 14 out of 95\n",
      "Processing 15 out of 95\n",
      "Processing 16 out of 95\n",
      "Processing 17 out of 95\n",
      "Processing 18 out of 95\n",
      "Processing 19 out of 95\n",
      "Processing 20 out of 95\n",
      "Processing 21 out of 95\n",
      "Processing 22 out of 95\n",
      "Processing 23 out of 95\n",
      "Processing 24 out of 95\n",
      "Processing 25 out of 95\n",
      "Processing 26 out of 95\n",
      "Processing 27 out of 95\n",
      "Processing 28 out of 95\n",
      "Processing 29 out of 95\n",
      "Processing 30 out of 95\n",
      "Processing 31 out of 95\n",
      "Processing 32 out of 95\n",
      "Processing 33 out of 95\n",
      "Processing 34 out of 95\n",
      "Processing 35 out of 95\n",
      "Processing 36 out of 95\n",
      "Processing 37 out of 95\n",
      "Processing 38 out of 95\n",
      "Processing 39 out of 95\n",
      "Processing 40 out of 95\n",
      "Processing 41 out of 95\n",
      "Processing 42 out of 95\n",
      "Processing 43 out of 95\n",
      "Processing 44 out of 95\n",
      "Processing 45 out of 95\n",
      "Processing 46 out of 95\n",
      "Processing 47 out of 95\n",
      "Processing 48 out of 95\n",
      "Processing 49 out of 95\n",
      "Processing 50 out of 95\n",
      "Processing 51 out of 95\n",
      "Processing 52 out of 95\n",
      "Processing 53 out of 95\n",
      "Processing 54 out of 95\n",
      "Processing 55 out of 95\n",
      "Processing 56 out of 95\n",
      "Processing 57 out of 95\n",
      "Processing 58 out of 95\n",
      "Processing 59 out of 95\n",
      "Processing 60 out of 95\n",
      "Processing 61 out of 95\n",
      "Processing 62 out of 95\n",
      "Processing 63 out of 95\n",
      "Processing 64 out of 95\n",
      "Processing 65 out of 95\n",
      "Processing 66 out of 95\n",
      "Processing 67 out of 95\n",
      "Processing 68 out of 95\n",
      "Processing 69 out of 95\n",
      "Processing 70 out of 95\n",
      "Processing 71 out of 95\n",
      "Processing 72 out of 95\n",
      "Processing 73 out of 95\n",
      "Processing 74 out of 95\n",
      "Processing 75 out of 95\n",
      "Processing 76 out of 95\n",
      "Processing 77 out of 95\n",
      "Processing 78 out of 95\n",
      "Processing 79 out of 95\n",
      "Processing 80 out of 95\n",
      "Processing 81 out of 95\n",
      "Processing 82 out of 95\n",
      "Processing 83 out of 95\n",
      "Processing 84 out of 95\n",
      "Processing 85 out of 95\n",
      "Processing 86 out of 95\n",
      "Processing 87 out of 95\n",
      "Processing 88 out of 95\n",
      "Processing 89 out of 95\n",
      "Processing 90 out of 95\n",
      "Processing 91 out of 95\n",
      "Processing 92 out of 95\n",
      "Processing 93 out of 95\n",
      "Processing 94 out of 95\n",
      "Processing 95 out of 95\n"
     ]
    }
   ],
   "source": [
    "# TODO: Use TQDM \n",
    "ques_to_cntx = dict()\n",
    "\n",
    "for index, doc in enumerate(document_corpus):\n",
    "    print(f\"Processing {index + 1} out of {len(document_corpus)}\")\n",
    "    instruction_prompt = INSTRUCTION_TEMPLATE.format(paragraph = doc)\n",
    "    response = mistral_cpp(\n",
    "        prompt=instruction_prompt,\n",
    "        max_tokens=MAXIMUM_TOKENS,\n",
    "        temperature=TEMPERATURE,\n",
    "        top_p=TOP_P,\n",
    "    )\n",
    "    question = response['choices'][0]['text'].strip()\n",
    "    ques_to_cntx[question] = doc"
   ]
  },
  {
   "cell_type": "code",
   "execution_count": 36,
   "id": "16a5d0ba",
   "metadata": {},
   "outputs": [
    {
     "data": {
      "text/plain": [
       "['What is the experience of taking psychedelic mushrooms according to the speaker?',\n",
       " 'What was your experience when you went on a picnic with your woman on a mountain and started feeling anxious, scared, and sick?',\n",
       " 'What is the speaker describing in the paragraph?',\n",
       " 'What would happen if you looked down and saw seven big, healthy-looking stray dogs on your side of the mountain while walking through a trip with someone?',\n",
       " 'What would you do if a group of stray dogs were approaching you?',\n",
       " 'What would you do if a pack of stray dogs were to run towards you?',\n",
       " 'What visuals do you typically see when taking psychedelics?',\n",
       " 'What is the speaker describing in this paragraph?',\n",
       " 'What is the most meaningful way you have expressed your love to someone?',\n",
       " 'What was your experience like four years ago when you were fapping multiple times while your girlfriend slept in the next room?',\n",
       " 'What happened on Saturday night when you were supposed to see your girlfriend?',\n",
       " 'What was the difference between the two scenarios described in the paragraph?',\n",
       " 'What is the point where a man will have the girl eventually, and why is it important to focus on self-improvement before getting into a relationship?',\n",
       " 'What is the difference between loving a feminine woman and loving a modern day masculine independent woman?',\n",
       " 'What does a feminine woman in love value most in a man?',\n",
       " \"What is the reason behind a feminine woman's sensitivity to micro signs from men?\",\n",
       " 'What is the function of the amygdala in the human brain and how does it affect a person when they are in love?',\n",
       " 'What does the paragraph suggest about the safety level that women have if they date men who are perceived as weak?',\n",
       " \"How does your partner's emotions correlate with yours?\",\n",
       " 'If a woman is in love, how much does her emotions and feelings become dictated by your own emotions and feelings?',\n",
       " 'What does it mean for a woman to be \"totally in love\" with someone?',\n",
       " 'What is the way to find feminine women according to the speaker?',\n",
       " 'What is the best thing a young man can do to attract a feminine woman?',\n",
       " \"What is a feminine woman like when she doesn't feel loved?\",\n",
       " 'What do you visualize when you hear the word \"barren\"?',\n",
       " \"What happens to a woman who constantly focuses on her insecurities and doesn't feel loved?\",\n",
       " 'What is the reason behind the hostile behavior of the baroness towards her lover?',\n",
       " \"What would a 16 year old British girl do if she doesn't feel loved by her father and ignored by the guy she has a crush on?\",\n",
       " \"What happens to girls who don't have their father's love at an early age?\",\n",
       " 'What are some negative consequences of a woman filling herself up with junk food, chocolate or engaging in casual sex when she is seeking love and attention from someone she truly desires?',\n",
       " \"How does a woman's relationship with her father affect her self-esteem and relationships later in life?\",\n",
       " 'What are some ways for young men to learn how to make their partners feel loved in relationships?',\n",
       " 'What is the challenge in loving a woman, and how does it go beyond just automatic \"I love you\" statements?',\n",
       " 'What is the challenge of making a woman feel loved every day, and how can it be overcome?',\n",
       " 'What are the two most important words for a woman to express her feelings of love, happiness, security, and excitement in the present moment?',\n",
       " 'How can we make sure to give our full attention and focus to our partner during small moments in order to truly make them feel loved?',\n",
       " 'What are some common challenges that couples may face when living together or going on extended vacations together?',\n",
       " 'What are the major goals that drive a masculine man in his pursuit of progress on his purpose and mission?',\n",
       " \"How do we balance a woman's need for love with our need for purpose and goals?\",\n",
       " 'What is the reason why some people believe that women are supposed to constantly feel reassured?',\n",
       " 'What are the different priorities that people have in their relationships?',\n",
       " \"What does it mean to be a gentleman and a lover in today's society?\",\n",
       " 'What is the difference between simping and expressing love towards someone?',\n",
       " 'What is the difference between being in love with someone and simping on them?',\n",
       " 'What is the best way to make a woman feel loved?',\n",
       " \"What is the author's opinion on how men should show their love for women?\",\n",
       " 'What is the key to making someone feel loved?',\n",
       " 'What are some ways to make your partner feel loved?',\n",
       " 'What is the context in which the speaker wrote the song?',\n",
       " 'What is the best way to express love to someone?',\n",
       " 'What is the fastest way to increase the amount of love your partner feels for you, according to the speaker?',\n",
       " 'What is the definition of sex according to The Way of the Superior Man?',\n",
       " 'What is DAP Plus Cap, and how does keeping these six elements in mind improve the performance, enjoyment, and connection during making love?',\n",
       " 'What is the DAP plus cap system?',\n",
       " 'What is high-intensity interval training (HIIT) and how can it improve performance in the bedroom?',\n",
       " 'What is high intensity interval training?',\n",
       " 'What is the Kegel muscle, and how does training it affect erection and ejaculation?',\n",
       " 'What are two easy ways to explain how to train sexual muscles?',\n",
       " 'What is the fastest improvement to lovemaking that will make her feel loved?',\n",
       " \"What is the author's opinion on fathers setting rules and boundaries for their adult daughters?\",\n",
       " 'What does the speaker believe is necessary for a woman to be more in love with a man?',\n",
       " 'What is one of the best pieces of advice to give someone when they are in a relationship?',\n",
       " 'What are some common characteristics of modern relationships where men act like boys towards women?',\n",
       " 'What does the speaker expect from a romantic partner based on their upbringing and experiences?',\n",
       " 'What do you think about the tradition of fathers walking their daughters down the aisle during weddings?',\n",
       " \"What is the author's view on how men should behave in order to attract a certain type of woman?\",\n",
       " 'What is the extreme level of having a relationship where you are in control of your woman?',\n",
       " \"What was the reason why you realized the responsibility you have as a man to think about your partner's basic needs?\",\n",
       " 'What are some basic needs that a man should consider when thinking of a woman as a potential partner, similar to how a father would think of his daughter?',\n",
       " \"What is the responsibility that comes with living together and taking care of someone's fundamental needs?\",\n",
       " \"What is the speaker's opinion on dependent energy in a romantic relationship?\",\n",
       " 'What does the speaker mean by \"love your woman like a one-year-old daughter\"?',\n",
       " 'What is the speaker suggesting as a way to improve relationships with feminine women?',\n",
       " 'What is your story of meeting your partner?',\n",
       " 'What motivated you to travel the world to see your friend for updates?',\n",
       " 'What are some tips for living with a partner?',\n",
       " 'What is the fast track to depolarization according to the paragraph?',\n",
       " 'What is the significance of living with someone and how it can affect your relationship?',\n",
       " 'What are some things that can slow down your progress towards achieving a goal?',\n",
       " 'What are some benefits of living with a feminine submissive woman?',\n",
       " 'What is the tip for living together that involves daily separation and reunion?',\n",
       " 'What is the most passionate moment you can imagine when reuniting with someone after being apart for a few hours?',\n",
       " 'What are some ways to maintain long-term stability in relationships?',\n",
       " 'What are the benefits of moving frequently for young couples?',\n",
       " 'What is the main issue that many men face when trying to maintain a long-term relationship with someone they love?',\n",
       " 'What is branch swinging in the context of relationships?',\n",
       " 'What is the evolutionary reason behind why feminine women are more likely to leave their partners and cheat?',\n",
       " 'What is necessary for the evolution of humans for their survival in the sexual marketplace?',\n",
       " 'What is required for a man to achieve love from this woman in the sexual marketplace?',\n",
       " \"What is the speaker's opinion on other men wanting their girlfriend or future wife?\",\n",
       " \"What is the speaker's motivation for working out and maintaining a healthy lifestyle?\",\n",
       " 'What is the main point of the paragraph?',\n",
       " 'What matters most in loving a feminine woman, according to \"The Way of the Superior Man\"?',\n",
       " 'What is the key to success in maintaining a relationship, according to the quote from The Way of the Superior Man?',\n",
       " \"What is the speaker's opinion on achieving their goal, given the presence of a loud-talking grandmother-like Asian woman behind them?\"]"
      ]
     },
     "execution_count": 36,
     "metadata": {},
     "output_type": "execute_result"
    }
   ],
   "source": [
    "list(ques_to_cntx.keys())"
   ]
  },
  {
   "cell_type": "code",
   "execution_count": 56,
   "id": "6f92de18",
   "metadata": {},
   "outputs": [],
   "source": [
    "documents = list(map(lambda x:  Document(page_content=x), ques_to_cntx.keys()))"
   ]
  },
  {
   "cell_type": "markdown",
   "id": "0ed5589a",
   "metadata": {},
   "source": [
    "### VectorDB"
   ]
  },
  {
   "cell_type": "code",
   "execution_count": 43,
   "id": "f06c2037",
   "metadata": {},
   "outputs": [],
   "source": [
    "import torch.nn.functional as F\n",
    "from langchain_chroma import Chroma\n",
    "from langchain_community.embeddings import HuggingFaceEmbeddings"
   ]
  },
  {
   "cell_type": "code",
   "execution_count": 49,
   "id": "8dc9fcdc",
   "metadata": {},
   "outputs": [
    {
     "name": "stderr",
     "output_type": "stream",
     "text": [
      "/Users/hrithicksen/Desktop/ttyt/.venv/lib/python3.12/site-packages/huggingface_hub/file_download.py:1132: FutureWarning: `resume_download` is deprecated and will be removed in version 1.0.0. Downloads always resume when possible. If you want to force a new download, use `force_download=True`.\n",
      "  warnings.warn(\n"
     ]
    }
   ],
   "source": [
    "model_name = \"sentence-transformers/all-mpnet-base-v2\"\n",
    "model_kwargs = {'device': 'cpu'}\n",
    "encode_kwargs = {'normalize_embeddings': False}\n",
    "hf = HuggingFaceEmbeddings(\n",
    "    model_name=model_name,\n",
    "    model_kwargs=model_kwargs,\n",
    "    encode_kwargs=encode_kwargs\n",
    ")"
   ]
  },
  {
   "cell_type": "code",
   "execution_count": 58,
   "id": "331eb8f4",
   "metadata": {},
   "outputs": [],
   "source": [
    "db = Chroma.from_documents(documents, hf)"
   ]
  }
 ],
 "metadata": {
  "kernelspec": {
   "display_name": ".venv",
   "language": "python",
   "name": "python3"
  },
  "language_info": {
   "codemirror_mode": {
    "name": "ipython",
    "version": 3
   },
   "file_extension": ".py",
   "mimetype": "text/x-python",
   "name": "python",
   "nbconvert_exporter": "python",
   "pygments_lexer": "ipython3",
   "version": "3.12.3"
  }
 },
 "nbformat": 4,
 "nbformat_minor": 5
}
